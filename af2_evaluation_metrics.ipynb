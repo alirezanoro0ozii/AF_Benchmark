{
 "cells": [
  {
   "cell_type": "markdown",
   "id": "723a4756",
   "metadata": {},
   "source": [
    "# AlphaFold2 Evaluation Metrics"
   ]
  },
  {
   "cell_type": "markdown",
   "id": "b9130530",
   "metadata": {},
   "source": [
    "This notebook provides an overview of common metrics used to evaluate AlphaFold2 (AF2) predictions. For each metric, we include a brief description and example code where applicable. You can adapt these code snippets to analyze your own predicted vs. experimental structures."
   ]
  },
  {
   "cell_type": "markdown",
   "id": "197355ec",
   "metadata": {},
   "source": [
    "## 1. Root-Mean-Square Deviation (RMSD)\n",
    "RMSD measures the average distance between equivalent atoms (typically C<sub>α</sub>) in the predicted and experimental structures.\n",
    "Below is an example using Biopython to compute RMSD between two PDB files (predicted and experimental).\n",
    "\n",
    "**Prerequisites:** Install Biopython (`pip install biopython`)."
   ]
  },
  {
   "cell_type": "code",
   "execution_count": 2,
   "id": "8b4c421c",
   "metadata": {},
   "outputs": [
    {
     "name": "stdout",
     "output_type": "stream",
     "text": [
      "RMSD: 0.00 Å\n"
     ]
    }
   ],
   "source": [
    "from Bio.PDB import PDBParser, Superimposer\n",
    "\n",
    "# Paths to PDB files\n",
    "predicted_pdb = '1ubi.pdb'\n",
    "experimental_pdb = '1ubi_shifted.pdb'\n",
    "\n",
    "# Parse structures\n",
    "parser = PDBParser(QUIET=True)\n",
    "predicted = parser.get_structure('pred', predicted_pdb)\n",
    "experimental = parser.get_structure('exp', experimental_pdb)\n",
    "\n",
    "# Select C-alpha atoms\n",
    "pred_atoms = [atom for atom in predicted.get_atoms() if atom.get_name() == 'CA']\n",
    "exp_atoms = [atom for atom in experimental.get_atoms() if atom.get_name() == 'CA']\n",
    "\n",
    "# Ensure equal length\n",
    "if len(pred_atoms) != len(exp_atoms):\n",
    "    raise ValueError('The number of CA atoms in predicted and experimental structures must match.')\n",
    "\n",
    "# Superimpose and compute RMSD\n",
    "sup = Superimposer()\n",
    "sup.set_atoms(exp_atoms, pred_atoms)\n",
    "print(f\"RMSD: {sup.rms:.2f} Å\")"
   ]
  },
  {
   "cell_type": "markdown",
   "id": "d7527d67",
   "metadata": {},
   "source": [
    "## 2. Global Distance Test (GDT-TS & GDT-HA)\n",
    "GDT-TS is the percentage of residues whose C<sub>α</sub> atoms fall within 1, 2, 4, and 8 Å after optimal superposition. \n",
    "GDT-HA uses more stringent cutoffs at 0.5, 1, 2, and 4 Å.\n",
    "\n",
    "**Notes:**\n",
    "- There is no built-in Biopython function for GDT. \n",
    "- Typically, software like TM-align or local scripts can compute GDT. Below is a placeholder demonstrating how to call TM-score (which also reports GDT).\n"
   ]
  },
  {
   "cell_type": "code",
   "execution_count": null,
   "id": "3d92b493",
   "metadata": {},
   "outputs": [],
   "source": [
    "import subprocess\n",
    "\n",
    "# Paths to PDB files\n",
    "predicted_pdb = 'predicted_model.pdb'\n",
    "experimental_pdb = 'experimental_structure.pdb'\n",
    "\n",
    "# Ensure TM-align or TM-score binary is installed and in PATH\n",
    "cmd = ['tm_score', experimental_pdb, predicted_pdb]\n",
    "result = subprocess.run(cmd, capture_output=True, text=True)\n",
    "print(result.stdout)\n",
    "\n",
    "# Look for 'GDT_TS' and 'GDT_HA' in the output."
   ]
  },
  {
   "cell_type": "markdown",
   "id": "44b228a2",
   "metadata": {},
   "source": [
    "## 3. Template Modeling Score (TM-score)\n",
    "TM-score provides a normalized measure of structural similarity (ranging from 0 to 1). Scores > 0.5 generally indicate comparable overall fold.\n",
    "\n",
    "You can compute TM-score using TM-align or the TM-score binary. Example below reuses the TM-align call."
   ]
  },
  {
   "cell_type": "code",
   "execution_count": null,
   "id": "03e3c41b",
   "metadata": {},
   "outputs": [],
   "source": [
    "import subprocess\n",
    "\n",
    "# Paths to PDB files\n",
    "predicted_pdb = 'predicted_model.pdb'\n",
    "experimental_pdb = 'experimental_structure.pdb'\n",
    "\n",
    "# Call TM-align (TM-score is part of the output)\n",
    "cmd = ['TMalign', predicted_pdb, experimental_pdb]\n",
    "result = subprocess.run(cmd, capture_output=True, text=True)\n",
    "print(result.stdout)\n",
    "\n",
    "# Parse TM-score from the output lines starting with 'TM-score='."
   ]
  },
  {
   "cell_type": "markdown",
   "id": "9ff482d0",
   "metadata": {},
   "source": [
    "## 4. Local Distance Difference Test (lDDT)\n",
    "lDDT evaluates local structural accuracy by comparing distances between atoms in a sliding window.\n",
    "\n",
    "**Notes:**\n",
    "- There are Python implementations (e.g., from the `lddt` package) or standalone scripts.\n",
    "- Below is a placeholder for a custom lDDT function or external tool call."
   ]
  },
  {
   "cell_type": "code",
   "execution_count": null,
   "id": "e624e05a",
   "metadata": {},
   "outputs": [],
   "source": [
    "def compute_lddt(pred_pdb, exp_pdb, cutoff=15.0, weight_factor=0.0):\n",
    "    \"\"\"\n",
    "    Placeholder function for lDDT calculation. Typically, you'd use an existing implementation or compute pairwise distances within a given cutoff and compare.\n",
    "    \"\"\"\n",
    "    # Implement or call external lDDT calculation here\n",
    "    pass\n",
    "\n",
    "# Example usage:\n",
    "predicted_pdb = 'predicted_model.pdb'\n",
    "experimental_pdb = 'experimental_structure.pdb'\n",
    "lddt_score = compute_lddt(predicted_pdb, experimental_pdb)\n",
    "print(f\"lDDT Score: {lddt_score}\")"
   ]
  },
  {
   "cell_type": "markdown",
   "id": "cec378bd",
   "metadata": {},
   "source": [
    "## 5. Predicted Local Distance Difference Test (pLDDT)\n",
    "AF2 outputs per-residue confidence scores (pLDDT) ranging from 0 to 100, stored in the B-factor column of the PDB.\n",
    "\n",
    "**Example:** Extracting pLDDT from a PDB file."
   ]
  },
  {
   "cell_type": "code",
   "execution_count": null,
   "id": "b9b29b02",
   "metadata": {},
   "outputs": [],
   "source": [
    "from Bio.PDB import PDBParser\n",
    "\n",
    "pdb_file = 'af2_predicted_model.pdb'\n",
    "parser = PDBParser(QUIET=True)\n",
    "structure = parser.get_structure('af2', pdb_file)\n",
    "\n",
    "# Collect pLDDT values from B-factor\n",
    "plddt_values = []\n",
    "for atom in structure.get_atoms():\n",
    "    if atom.get_name() == 'CA':\n",
    "        plddt_values.append(atom.get_bfactor())\n",
    "\n",
    "import numpy as np\n",
    "print(f\"Average pLDDT: {np.mean(plddt_values):.2f}\")\n",
    "print(f\"Per-residue pLDDT values: {plddt_values}\")"
   ]
  },
  {
   "cell_type": "markdown",
   "id": "c4e3d703",
   "metadata": {},
   "source": [
    "## 6. Predicted Aligned Error (PAE)\n",
    "PAE provides a matrix of estimated positional errors between pairs of residues. AF2 outputs a JSON file (`result_model.json`) containing PAE data.\n",
    "\n",
    "**Example:** Loading PAE from AF2 JSON output."
   ]
  },
  {
   "cell_type": "code",
   "execution_count": null,
   "id": "2bed3743",
   "metadata": {},
   "outputs": [],
   "source": [
    "import json\n",
    "\n",
    "json_file = 'result_model.json'\n",
    "with open(json_file, 'r') as f:\n",
    "    data = json.load(f)\n",
    "\n",
    "# PAE is typically under ['predicted_aligned_error'] in the JSON structure\n",
    "if 'predicted_aligned_error' in data:\n",
    "    pae_matrix = data['predicted_aligned_error']\n",
    "    print(f\"PAE matrix loaded: size {len(pae_matrix)} x {len(pae_matrix)}\")\n",
    "else:\n",
    "    print(\"PAE data not found in the JSON. Check the AF2 output format.\")"
   ]
  },
  {
   "cell_type": "markdown",
   "id": "fd8b73c2",
   "metadata": {},
   "source": [
    "## 7. MolProbity Score\n",
    "MolProbity assesses stereochemical quality (rotamer, Ramachandran, clashscore). You can upload a PDB to the MolProbity server or use `phenix.molprobity` tools locally.\n",
    "\n",
    "**Note:** Below is a placeholder for calling MolProbity locally or instructions to use the web server."
   ]
  },
  {
   "cell_type": "code",
   "execution_count": null,
   "id": "330174ff",
   "metadata": {},
   "outputs": [],
   "source": [
    "# Example: placeholder for running MolProbity via command line\n",
    "# If you have Phenix installed, you can run:\n",
    "# phenix.molprobity model.pdb\n",
    "\n",
    "print(\"Run 'phenix.molprobity model.pdb' to obtain a MolProbity report.\")"
   ]
  },
  {
   "cell_type": "markdown",
   "id": "7fca29ea",
   "metadata": {},
   "source": [
    "----\n",
    "### Conclusion\n",
    "This notebook provided a starting point for computing and interpreting various AF2 evaluation metrics. You can expand each section with more detailed implementations, visualization of results, and batch-processing scripts for large datasets."
   ]
  }
 ],
 "metadata": {
  "kernelspec": {
   "display_name": "base",
   "language": "python",
   "name": "python3"
  },
  "language_info": {
   "codemirror_mode": {
    "name": "ipython",
    "version": 3
   },
   "file_extension": ".py",
   "mimetype": "text/x-python",
   "name": "python",
   "nbconvert_exporter": "python",
   "pygments_lexer": "ipython3",
   "version": "3.10.13"
  }
 },
 "nbformat": 4,
 "nbformat_minor": 5
}
