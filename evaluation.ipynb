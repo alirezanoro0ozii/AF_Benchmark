{
 "cells": [
  {
   "cell_type": "markdown",
   "metadata": {},
   "source": [
    "TM-Score"
   ]
  },
  {
   "cell_type": "code",
   "execution_count": 1,
   "metadata": {},
   "outputs": [
    {
     "name": "stdout",
     "output_type": "stream",
     "text": [
      "{'Chain_1': 0.53699, 'Chain_2': 0.18099}\n"
     ]
    }
   ],
   "source": [
    "import re\n",
    "import os\n",
    "import subprocess\n",
    "\n",
    "def create_item(query, reference):    \n",
    "    if not os.path.isfile('TMalign'):\n",
    "        print(subprocess.getoutput('g++ -O3 -ffast-math -lm -o TMalign {s}'.format(s='TMalign.cpp')))\n",
    "\n",
    "    batcmd = f'./TMalign {query} {reference}'\n",
    "    try:\n",
    "        result = subprocess.check_output(batcmd, shell=True)\n",
    "    except subprocess.CalledProcessError as e:\n",
    "        print(f\"Error running TMalign: {e}\")\n",
    "    \n",
    "    score_lines = []\n",
    "    for line in result.decode().split(\"\\n\"):\n",
    "        if line.startswith(\"TM-score\"):\n",
    "            score_lines.append(line)\n",
    "\n",
    "    # Fetch the chain number\n",
    "    key_getter = lambda s: re.findall(r\"Chain_[12]{1}\", s)[0]\n",
    "    score_getter = lambda s: float(re.findall(r\"=\\s+([0-9.]+)\", s)[0])\n",
    "    results_dict = {key_getter(s): score_getter(s) for s in score_lines}\n",
    "\n",
    "    return results_dict\n",
    "\n",
    "query = \"../data/new_pdb.pdb\"\n",
    "reference = \"../data/Filled_pdb.pdb\"\n",
    "print(create_item(query, reference))"
   ]
  },
  {
   "cell_type": "markdown",
   "metadata": {},
   "source": [
    "LDDT metric (Local Distance Difference Test)"
   ]
  },
  {
   "cell_type": "code",
   "execution_count": 2,
   "metadata": {},
   "outputs": [
    {
     "ename": "FileNotFoundError",
     "evalue": "[Errno 2] No such file or directory: 'experimental.pdb'",
     "output_type": "error",
     "traceback": [
      "\u001b[0;31m---------------------------------------------------------------------------\u001b[0m",
      "\u001b[0;31mFileNotFoundError\u001b[0m                         Traceback (most recent call last)",
      "Cell \u001b[0;32mIn[2], line 53\u001b[0m\n\u001b[1;32m     51\u001b[0m ref   \u001b[38;5;241m=\u001b[39m \u001b[38;5;124m'\u001b[39m\u001b[38;5;124mexperimental.pdb\u001b[39m\u001b[38;5;124m'\u001b[39m\n\u001b[1;32m     52\u001b[0m pred  \u001b[38;5;241m=\u001b[39m \u001b[38;5;124m'\u001b[39m\u001b[38;5;124malphafold_model.pdb\u001b[39m\u001b[38;5;124m'\u001b[39m\n\u001b[0;32m---> 53\u001b[0m per_res, g_lddt \u001b[38;5;241m=\u001b[39m \u001b[43mcompute_lddt\u001b[49m\u001b[43m(\u001b[49m\u001b[43mref\u001b[49m\u001b[43m,\u001b[49m\u001b[43m \u001b[49m\u001b[43mpred\u001b[49m\u001b[43m)\u001b[49m\n\u001b[1;32m     54\u001b[0m \u001b[38;5;28mprint\u001b[39m(\u001b[38;5;124mf\u001b[39m\u001b[38;5;124m\"\u001b[39m\u001b[38;5;124mGlobal LDDT = \u001b[39m\u001b[38;5;132;01m{\u001b[39;00mg_lddt\u001b[38;5;241m*\u001b[39m\u001b[38;5;241m100\u001b[39m\u001b[38;5;132;01m:\u001b[39;00m\u001b[38;5;124m.2f\u001b[39m\u001b[38;5;132;01m}\u001b[39;00m\u001b[38;5;124m\"\u001b[39m)\n",
      "Cell \u001b[0;32mIn[2], line 21\u001b[0m, in \u001b[0;36mcompute_lddt\u001b[0;34m(ref_pdb, pred_pdb, cutoff)\u001b[0m\n\u001b[1;32m     19\u001b[0m \u001b[38;5;28;01mdef\u001b[39;00m \u001b[38;5;21mcompute_lddt\u001b[39m(ref_pdb, pred_pdb, cutoff\u001b[38;5;241m=\u001b[39m\u001b[38;5;241m15.0\u001b[39m):\n\u001b[1;32m     20\u001b[0m     \u001b[38;5;66;03m# load coordinates and residue mappings\u001b[39;00m\n\u001b[0;32m---> 21\u001b[0m     ref_coords, ref_ids \u001b[38;5;241m=\u001b[39m \u001b[43mparse_ca_coords\u001b[49m\u001b[43m(\u001b[49m\u001b[43mref_pdb\u001b[49m\u001b[43m)\u001b[49m\n\u001b[1;32m     22\u001b[0m     pred_coords, pred_ids \u001b[38;5;241m=\u001b[39m parse_ca_coords(pred_pdb)\n\u001b[1;32m     23\u001b[0m     \u001b[38;5;28;01massert\u001b[39;00m ref_ids \u001b[38;5;241m==\u001b[39m pred_ids, \u001b[38;5;124m\"\u001b[39m\u001b[38;5;124mResidue ordering/mapping must match\u001b[39m\u001b[38;5;124m\"\u001b[39m\n",
      "Cell \u001b[0;32mIn[2], line 8\u001b[0m, in \u001b[0;36mparse_ca_coords\u001b[0;34m(pdb_path)\u001b[0m\n\u001b[1;32m      6\u001b[0m \u001b[38;5;250m\u001b[39m\u001b[38;5;124;03m\"\"\"Return sorted list of residue IDs and corresponding Cα coords.\"\"\"\u001b[39;00m\n\u001b[1;32m      7\u001b[0m parser \u001b[38;5;241m=\u001b[39m PDBParser(QUIET\u001b[38;5;241m=\u001b[39m\u001b[38;5;28;01mTrue\u001b[39;00m)\n\u001b[0;32m----> 8\u001b[0m structure \u001b[38;5;241m=\u001b[39m \u001b[43mparser\u001b[49m\u001b[38;5;241;43m.\u001b[39;49m\u001b[43mget_structure\u001b[49m\u001b[43m(\u001b[49m\u001b[38;5;124;43m'\u001b[39;49m\u001b[38;5;124;43mS\u001b[39;49m\u001b[38;5;124;43m'\u001b[39;49m\u001b[43m,\u001b[49m\u001b[43m \u001b[49m\u001b[43mpdb_path\u001b[49m\u001b[43m)\u001b[49m\n\u001b[1;32m      9\u001b[0m coords \u001b[38;5;241m=\u001b[39m []\n\u001b[1;32m     10\u001b[0m res_ids \u001b[38;5;241m=\u001b[39m []\n",
      "File \u001b[0;32m/opt/anaconda3/lib/python3.10/site-packages/Bio/PDB/PDBParser.py:96\u001b[0m, in \u001b[0;36mPDBParser.get_structure\u001b[0;34m(self, id, file)\u001b[0m\n\u001b[1;32m     93\u001b[0m \u001b[38;5;66;03m# Make a StructureBuilder instance (pass id of structure as parameter)\u001b[39;00m\n\u001b[1;32m     94\u001b[0m \u001b[38;5;28mself\u001b[39m\u001b[38;5;241m.\u001b[39mstructure_builder\u001b[38;5;241m.\u001b[39minit_structure(\u001b[38;5;28mid\u001b[39m)\n\u001b[0;32m---> 96\u001b[0m \u001b[38;5;28;01mwith\u001b[39;00m as_handle(file) \u001b[38;5;28;01mas\u001b[39;00m handle:\n\u001b[1;32m     97\u001b[0m     lines \u001b[38;5;241m=\u001b[39m handle\u001b[38;5;241m.\u001b[39mreadlines()\n\u001b[1;32m     98\u001b[0m     \u001b[38;5;28;01mif\u001b[39;00m \u001b[38;5;129;01mnot\u001b[39;00m lines:\n",
      "File \u001b[0;32m/opt/anaconda3/lib/python3.10/contextlib.py:135\u001b[0m, in \u001b[0;36m_GeneratorContextManager.__enter__\u001b[0;34m(self)\u001b[0m\n\u001b[1;32m    133\u001b[0m \u001b[38;5;28;01mdel\u001b[39;00m \u001b[38;5;28mself\u001b[39m\u001b[38;5;241m.\u001b[39margs, \u001b[38;5;28mself\u001b[39m\u001b[38;5;241m.\u001b[39mkwds, \u001b[38;5;28mself\u001b[39m\u001b[38;5;241m.\u001b[39mfunc\n\u001b[1;32m    134\u001b[0m \u001b[38;5;28;01mtry\u001b[39;00m:\n\u001b[0;32m--> 135\u001b[0m     \u001b[38;5;28;01mreturn\u001b[39;00m \u001b[38;5;28;43mnext\u001b[39;49m\u001b[43m(\u001b[49m\u001b[38;5;28;43mself\u001b[39;49m\u001b[38;5;241;43m.\u001b[39;49m\u001b[43mgen\u001b[49m\u001b[43m)\u001b[49m\n\u001b[1;32m    136\u001b[0m \u001b[38;5;28;01mexcept\u001b[39;00m \u001b[38;5;167;01mStopIteration\u001b[39;00m:\n\u001b[1;32m    137\u001b[0m     \u001b[38;5;28;01mraise\u001b[39;00m \u001b[38;5;167;01mRuntimeError\u001b[39;00m(\u001b[38;5;124m\"\u001b[39m\u001b[38;5;124mgenerator didn\u001b[39m\u001b[38;5;124m'\u001b[39m\u001b[38;5;124mt yield\u001b[39m\u001b[38;5;124m\"\u001b[39m) \u001b[38;5;28;01mfrom\u001b[39;00m \u001b[38;5;28;01mNone\u001b[39;00m\n",
      "File \u001b[0;32m/opt/anaconda3/lib/python3.10/site-packages/Bio/File.py:72\u001b[0m, in \u001b[0;36mas_handle\u001b[0;34m(handleish, mode, **kwargs)\u001b[0m\n\u001b[1;32m     30\u001b[0m \u001b[38;5;250m\u001b[39m\u001b[38;5;124mr\u001b[39m\u001b[38;5;124;03m\"\"\"Context manager to ensure we are using a handle.\u001b[39;00m\n\u001b[1;32m     31\u001b[0m \n\u001b[1;32m     32\u001b[0m \u001b[38;5;124;03mContext manager for arguments that can be passed to SeqIO and AlignIO read, write,\u001b[39;00m\n\u001b[0;32m   (...)\u001b[0m\n\u001b[1;32m     69\u001b[0m \n\u001b[1;32m     70\u001b[0m \u001b[38;5;124;03m\"\"\"\u001b[39;00m\n\u001b[1;32m     71\u001b[0m \u001b[38;5;28;01mtry\u001b[39;00m:\n\u001b[0;32m---> 72\u001b[0m     \u001b[38;5;28;01mwith\u001b[39;00m \u001b[38;5;28;43mopen\u001b[39;49m\u001b[43m(\u001b[49m\u001b[43mhandleish\u001b[49m\u001b[43m,\u001b[49m\u001b[43m \u001b[49m\u001b[43mmode\u001b[49m\u001b[43m,\u001b[49m\u001b[43m \u001b[49m\u001b[38;5;241;43m*\u001b[39;49m\u001b[38;5;241;43m*\u001b[39;49m\u001b[43mkwargs\u001b[49m\u001b[43m)\u001b[49m \u001b[38;5;28;01mas\u001b[39;00m fp:\n\u001b[1;32m     73\u001b[0m         \u001b[38;5;28;01myield\u001b[39;00m fp\n\u001b[1;32m     74\u001b[0m \u001b[38;5;28;01mexcept\u001b[39;00m \u001b[38;5;167;01mTypeError\u001b[39;00m:\n",
      "\u001b[0;31mFileNotFoundError\u001b[0m: [Errno 2] No such file or directory: 'experimental.pdb'"
     ]
    }
   ],
   "source": [
    "from Bio.PDB import PDBParser\n",
    "import numpy as np\n",
    "from scipy.spatial import cKDTree\n",
    "\n",
    "def parse_ca_coords(pdb_path):\n",
    "    \"\"\"Return sorted list of residue IDs and corresponding Cα coords.\"\"\"\n",
    "    parser = PDBParser(QUIET=True)\n",
    "    structure = parser.get_structure('S', pdb_path)\n",
    "    coords = []\n",
    "    res_ids = []\n",
    "    for model in structure:\n",
    "        for chain in model:\n",
    "            for residue in chain:\n",
    "                if 'CA' in residue:\n",
    "                    coords.append(residue['CA'].get_coord())\n",
    "                    res_ids.append((chain.id, residue.id[1]))\n",
    "    return np.array(coords), res_ids\n",
    "\n",
    "def compute_lddt(ref_pdb, pred_pdb, cutoff=15.0):\n",
    "    # load coordinates and residue mappings\n",
    "    ref_coords, ref_ids = parse_ca_coords(ref_pdb)\n",
    "    pred_coords, pred_ids = parse_ca_coords(pred_pdb)\n",
    "    assert ref_ids == pred_ids, \"Residue ordering/mapping must match\"\n",
    "\n",
    "    # build a neighbor-search tree on the reference coords\n",
    "    tree = cKDTree(ref_coords)\n",
    "    thresholds = [0.5, 1.0, 2.0, 4.0]\n",
    "    per_residue_scores = []\n",
    "\n",
    "    for i, r_coord in enumerate(ref_coords):\n",
    "        # neighbors within cutoff (excluding self)\n",
    "        neighbors = [j for j in tree.query_ball_point(r_coord, cutoff) if j != i]\n",
    "        if not neighbors:\n",
    "            per_residue_scores.append(np.nan)\n",
    "            continue\n",
    "\n",
    "        # distance arrays\n",
    "        d_ref  = np.linalg.norm(ref_coords[neighbors]  - r_coord, axis=1)\n",
    "        d_pred = np.linalg.norm(pred_coords[neighbors] - pred_coords[i], axis=1)\n",
    "        diffs  = np.abs(d_pred - d_ref)\n",
    "\n",
    "        # fraction under each threshold\n",
    "        fracs = [(diffs < t).sum() / len(diffs) for t in thresholds]\n",
    "        per_residue_scores.append(np.mean(fracs))\n",
    "\n",
    "    # global LDDT\n",
    "    global_lddt = np.nanmean(per_residue_scores)\n",
    "    return per_residue_scores, global_lddt\n",
    "\n",
    "if __name__ == '__main__':\n",
    "    ref   = 'experimental.pdb'\n",
    "    pred  = 'alphafold_model.pdb'\n",
    "    per_res, g_lddt = compute_lddt(ref, pred)\n",
    "    print(f\"Global LDDT = {g_lddt*100:.2f}\")\n",
    "    # e.g. print per‐residue if you like\n",
    "    # for idx, score in enumerate(per_res):\n",
    "    #     print(f\"Res {idx+1:4d}: LDDT = {score*100:5.1f}\")"
   ]
  },
  {
   "cell_type": "code",
   "execution_count": 10,
   "metadata": {},
   "outputs": [],
   "source": [
    "\"\"\"lDDT protein distance score.\"\"\"\n",
    "# import jax.numpy as jnp\n",
    "import numpy as jnp\n",
    "\n",
    "\n",
    "def lddt(predicted_points,\n",
    "         true_points,\n",
    "         true_points_mask,\n",
    "         cutoff=15.,\n",
    "         per_residue=False):\n",
    "  \"\"\"Measure (approximate) lDDT for a batch of coordinates.\n",
    "\n",
    "  lDDT reference:\n",
    "  Mariani, V., Biasini, M., Barbato, A. & Schwede, T. lDDT: A local\n",
    "  superposition-free score for comparing protein structures and models using\n",
    "  distance difference tests. Bioinformatics 29, 2722–2728 (2013).\n",
    "\n",
    "  lDDT is a measure of the difference between the true distance matrix and the\n",
    "  distance matrix of the predicted points.  The difference is computed only on\n",
    "  points closer than cutoff *in the true structure*.\n",
    "\n",
    "  This function does not compute the exact lDDT value that the original paper\n",
    "  describes because it does not include terms for physical feasibility\n",
    "  (e.g. bond length violations). Therefore this is only an approximate\n",
    "  lDDT score.\n",
    "\n",
    "  Args:\n",
    "    predicted_points: (batch, length, 3) array of predicted 3D points\n",
    "    true_points: (batch, length, 3) array of true 3D points\n",
    "    true_points_mask: (batch, length, 1) binary-valued float array.  This mask\n",
    "      should be 1 for points that exist in the true points.\n",
    "    cutoff: Maximum distance for a pair of points to be included\n",
    "    per_residue: If true, return score for each residue.  Note that the overall\n",
    "      lDDT is not exactly the mean of the per_residue lDDT's because some\n",
    "      residues have more contacts than others.\n",
    "\n",
    "  Returns:\n",
    "    An (approximate, see above) lDDT score in the range 0-1.\n",
    "  \"\"\"\n",
    "\n",
    "  assert len(predicted_points.shape) == 3\n",
    "  assert predicted_points.shape[-1] == 3\n",
    "  assert true_points_mask.shape[-1] == 1\n",
    "  assert len(true_points_mask.shape) == 3\n",
    "\n",
    "  # Compute true and predicted distance matrices.\n",
    "  dmat_true = jnp.sqrt(1e-10 + jnp.sum(\n",
    "      (true_points[:, :, None] - true_points[:, None, :])**2, axis=-1))\n",
    "\n",
    "  dmat_predicted = jnp.sqrt(1e-10 + jnp.sum(\n",
    "      (predicted_points[:, :, None] -\n",
    "       predicted_points[:, None, :])**2, axis=-1))\n",
    "\n",
    "  dists_to_score = (\n",
    "      (dmat_true < cutoff).astype(jnp.float32) * true_points_mask *\n",
    "      jnp.transpose(true_points_mask, [0, 2, 1]) *\n",
    "      (1. - jnp.eye(dmat_true.shape[1]))  # Exclude self-interaction.\n",
    "  )\n",
    "\n",
    "  # Shift unscored distances to be far away.\n",
    "  dist_l1 = jnp.abs(dmat_true - dmat_predicted)\n",
    "\n",
    "  # True lDDT uses a number of fixed bins.\n",
    "  # We ignore the physical plausibility correction to lDDT, though.\n",
    "  score = 0.25 * ((dist_l1 < 0.5).astype(jnp.float32) +\n",
    "                  (dist_l1 < 1.0).astype(jnp.float32) +\n",
    "                  (dist_l1 < 2.0).astype(jnp.float32) +\n",
    "                  (dist_l1 < 4.0).astype(jnp.float32))\n",
    "\n",
    "  # Normalize over the appropriate axes.\n",
    "  reduce_axes = (-1,) if per_residue else (-2, -1)\n",
    "  norm = 1. / (1e-10 + jnp.sum(dists_to_score, axis=reduce_axes))\n",
    "  score = norm * (1e-10 + jnp.sum(dists_to_score * score, axis=reduce_axes))\n",
    "\n",
    "  return score[0]\n"
   ]
  },
  {
   "cell_type": "code",
   "execution_count": 11,
   "metadata": {},
   "outputs": [
    {
     "data": {
      "text/plain": [
       "1.0"
      ]
     },
     "execution_count": 11,
     "metadata": {},
     "output_type": "execute_result"
    }
   ],
   "source": [
    "import numpy as np\n",
    "import matplotlib.pyplot as plt\n",
    "from Bio.PDB import *\n",
    "\n",
    "def get_coordinates(pdb_file):\n",
    "    parser = PDBParser()\n",
    "    structure = parser.get_structure('protein', pdb_file)\n",
    "    coordinates = []\n",
    "    \n",
    "    for model in structure:\n",
    "        for chain in model:\n",
    "            for residue in chain:\n",
    "                for atom in residue:\n",
    "                    if atom.get_name() == 'CA':  # Only consider alpha carbons\n",
    "                        coordinates.append(atom.get_coord())\n",
    "    \n",
    "    return np.array([coordinates])\n",
    "\n",
    "true_points = get_coordinates(\"1ubi.pdb\")\n",
    "predicted_points = get_coordinates(\"1ubi_shifted.pdb\")\n",
    "true_points_mask = np.ones(shape=[1, 76, 1])\n",
    "lddt(predicted_points, true_points, true_points_mask)\n"
   ]
  },
  {
   "cell_type": "code",
   "execution_count": 12,
   "metadata": {},
   "outputs": [
    {
     "data": {
      "text/plain": [
       "0.9791666666666674"
      ]
     },
     "execution_count": 12,
     "metadata": {},
     "output_type": "execute_result"
    }
   ],
   "source": [
    "true_points = get_coordinates(\"1ubi.pdb\")\n",
    "predicted_points = get_coordinates(\"unnamed.pdb\")\n",
    "true_points_mask = np.ones(shape=[1, 76, 1])\n",
    "lddt(predicted_points, true_points, true_points_mask)"
   ]
  },
  {
   "cell_type": "code",
   "execution_count": null,
   "metadata": {},
   "outputs": [],
   "source": []
  }
 ],
 "metadata": {
  "kernelspec": {
   "display_name": "base",
   "language": "python",
   "name": "python3"
  },
  "language_info": {
   "codemirror_mode": {
    "name": "ipython",
    "version": 3
   },
   "file_extension": ".py",
   "mimetype": "text/x-python",
   "name": "python",
   "nbconvert_exporter": "python",
   "pygments_lexer": "ipython3",
   "version": "3.10.13"
  }
 },
 "nbformat": 4,
 "nbformat_minor": 2
}
